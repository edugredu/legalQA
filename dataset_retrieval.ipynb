{
 "cells": [
  {
   "cell_type": "code",
   "execution_count": 1,
   "id": "ea3f5e4a-4844-424b-ab3b-4148012e2140",
   "metadata": {},
   "outputs": [],
   "source": [
    "import pyterrier as pt\n",
    "import datasets\n",
    "import pandas as pd\n",
    "from pathlib import Path"
   ]
  },
  {
   "cell_type": "code",
   "execution_count": 2,
   "id": "6c34cf50-68b0-44f0-b711-9027ec661cbe",
   "metadata": {},
   "outputs": [],
   "source": [
    "def rrf(dfs, i=1, K=100):\n",
    "    scores = {}\n",
    "\n",
    "    for df in dfs:\n",
    "        for _, row in df.iterrows():\n",
    "            docno = row[\"docno\"]\n",
    "            rrf_score = (1 / (i+row[\"rank\"]))\n",
    "            if docno in scores:\n",
    "                scores[docno] += rrf_score\n",
    "            else:\n",
    "                scores[docno] = rrf_score\n",
    "    # main_qid is used here to evaluate performance of merged data frame\n",
    "    merged_df = pd.DataFrame(\n",
    "        [{\"qid\": '1', \"docno\": k, \"score\": v} for k, v in sorted(scores.items(), key=lambda item: item[1], reverse=True)] \n",
    "    )\n",
    "    # print(merged_df[merged_df[\"docno\"]==244319])\n",
    "    merged_df[\"rank\"] = list(range(len(merged_df)))\n",
    "    return merged_df[:K]"
   ]
  },
  {
   "cell_type": "code",
   "execution_count": 3,
   "id": "378bb277-1e94-48e3-88f2-4bd1cb3aaea3",
   "metadata": {},
   "outputs": [],
   "source": [
    "dataset = datasets.load_dataset(\"jonathanli/eurlex\")"
   ]
  },
  {
   "cell_type": "code",
   "execution_count": 4,
   "id": "5c75f130-5b4a-4d62-9d2b-db95c03bb950",
   "metadata": {},
   "outputs": [
    {
     "name": "stdout",
     "output_type": "stream",
     "text": [
      "DatasetDict({\n",
      "    train: Dataset({\n",
      "        features: ['celex_id', 'title', 'text', 'eurovoc_concepts'],\n",
      "        num_rows: 45000\n",
      "    })\n",
      "    test: Dataset({\n",
      "        features: ['celex_id', 'title', 'text', 'eurovoc_concepts'],\n",
      "        num_rows: 6000\n",
      "    })\n",
      "    validation: Dataset({\n",
      "        features: ['celex_id', 'title', 'text', 'eurovoc_concepts'],\n",
      "        num_rows: 6000\n",
      "    })\n",
      "})\n"
     ]
    }
   ],
   "source": [
    "print(dataset)"
   ]
  },
  {
   "cell_type": "code",
   "execution_count": 5,
   "id": "dd690feb-0082-4ff6-8418-e08f9df38bea",
   "metadata": {
    "scrolled": true
   },
   "outputs": [],
   "source": [
    "ds1 = dataset['train'].to_pandas()\n",
    "ds2 = dataset['test'].to_pandas()\n",
    "ds3 = dataset['validation'].to_pandas()"
   ]
  },
  {
   "cell_type": "code",
   "execution_count": 6,
   "id": "16257b96-8f1e-4985-92f8-ebe8dbc293bd",
   "metadata": {},
   "outputs": [],
   "source": [
    "ds4 = pd.concat([ds1, ds2], axis=0)\n",
    "pd_ds = pd.concat([ds4, ds3], axis=0)\n"
   ]
  },
  {
   "cell_type": "code",
   "execution_count": 7,
   "id": "580996a4-5199-4ea5-b1cc-23890558a0aa",
   "metadata": {},
   "outputs": [
    {
     "name": "stdout",
     "output_type": "stream",
     "text": [
      "        celex_id                                              title  \\\n",
      "0     32014R0727  Commission Implementing Regulation (EU) No 727...   \n",
      "1     31975R2481  Regulation (EEC) No 2481/75 of the Council of ...   \n",
      "2     32010D0008  2010/8/EU, Euratom: Commission Decision of 22 ...   \n",
      "3     31982D0211  82/211/EEC: Commission Decision of 17 March 19...   \n",
      "4     31996D0084  96/84/Euratom, ECSC, EC: Commission Decision o...   \n",
      "...          ...                                                ...   \n",
      "5995  32007R0522  Commission Regulation (EC) No 522/2007 of 11 M...   \n",
      "5996  32005R0245  Commission Regulation (EC) No 245/2005 of 11 F...   \n",
      "5997  31995D0380  95/380/EC: Commission Decision of 18 September...   \n",
      "5998  31989R1200  Commission Regulation (EEC) No 1200/89 of 3 Ma...   \n",
      "5999  32015D0205  Commission Implementing Decision (EU) 2015/205...   \n",
      "\n",
      "                                                   text  \\\n",
      "0     1.7.2014 EN Official Journal of the European U...   \n",
      "1     REGULATION (EEC) No 2481/75 OF THE COUNCIL  of...   \n",
      "2     7.1.2010 EN Official Journal of the European U...   \n",
      "3     COMMISSION  DECISION\\nof 17 March 1982\\nestabl...   \n",
      "4     COMMISSION DECISION of 8 January 1996 adjustin...   \n",
      "...                                                 ...   \n",
      "5995  12.5.2007 EN Official Journal of the European ...   \n",
      "5996  12.2.2005 EN Official Journal of the European ...   \n",
      "5997  COMMISSION DECISION  of 18 September 1995 amen...   \n",
      "5998  COMMISSION  REGULATION (EEC) No 1200/89\\nof 3 ...   \n",
      "5999  10.2.2015 EN Official Journal of the European ...   \n",
      "\n",
      "                               eurovoc_concepts  \n",
      "0     [1402, 2771, 3191, 5055, 519, 5969, 5971]  \n",
      "1                       [2319, 2713, 2938, 693]  \n",
      "2           [3560, 365, 4256, 4261, 4353, 4585]  \n",
      "3          [1091, 3842, 3874, 4110, 4381, 5287]  \n",
      "4          [1026, 1048, 2300, 3653, 4271, 4390]  \n",
      "...                                         ...  \n",
      "5995         [20, 2644, 2664, 2681, 3070, 4860]  \n",
      "5996                     [1486, 20, 2681, 2958]  \n",
      "5997             [1895, 2711, 4057, 4257, 5962]  \n",
      "5998                   [1667, 2668, 3275, 5096]  \n",
      "5999                   [1445, 4743, 8301, 8464]  \n",
      "\n",
      "[57000 rows x 4 columns]\n"
     ]
    }
   ],
   "source": [
    "print(pd_ds)"
   ]
  },
  {
   "cell_type": "code",
   "execution_count": 8,
   "id": "855b3690-375e-4e29-8902-f865625b23b3",
   "metadata": {},
   "outputs": [
    {
     "name": "stderr",
     "output_type": "stream",
     "text": [
      "Java started (triggered by IndexFactory.of) and loaded: pyterrier.java, pyterrier.terrier.java [version=5.11 (build: craig.macdonald 2025-01-13 21:29), helper_version=0.0.8]\n"
     ]
    }
   ],
   "source": [
    "index_ref = None\n",
    "cache_dir = Path(\"cache/\")\n",
    "index_dir = cache_dir / \"indices\" / \"eur_lex\"\n",
    "\n",
    "pd_ds_rename = pd_ds.rename(columns={'celex_id': 'docno'}, inplace=False)\n",
    "\n",
    "pd_ds_dict = pd_ds_rename.to_dict(orient='records')\n",
    "\n",
    "try:\n",
    "    index_ref = pt.IndexFactory.of(str(index_dir.absolute()))\n",
    "except:\n",
    "    indexer = pt.index.IterDictIndexer(str(index_dir.absolute()))\n",
    "    index_ref = indexer.index(\n",
    "        pd_ds_dict\n",
    "    )   "
   ]
  },
  {
   "cell_type": "code",
   "execution_count": 9,
   "id": "2a0a93ac-ba5e-4611-8a33-478f46d72c31",
   "metadata": {},
   "outputs": [],
   "source": [
    "index_ref_title = None\n",
    "cache_dir = Path(\"cache/\")\n",
    "index_dir2 = cache_dir / \"indices\" / \"eur_lex_titles\"\n",
    "\n",
    "pd_ds_rename = pd_ds.rename(columns={'celex_id': 'docno', 'text':'not_text', 'title':'text'}, inplace=False)\n",
    "\n",
    "pd_ds_dict = pd_ds_rename.to_dict(orient='records')\n",
    "\n",
    "try:\n",
    "    index_ref_title = pt.IndexFactory.of(str(index_dir2.absolute()))\n",
    "except:\n",
    "    indexer_title = pt.index.IterDictIndexer(str(index_dir2.absolute()))\n",
    "    index_ref_title = indexer_title.index(\n",
    "        pd_ds_dict\n",
    "    )   "
   ]
  },
  {
   "cell_type": "code",
   "execution_count": 10,
   "id": "ccafc47b-173a-4c86-8947-fd7e1572c983",
   "metadata": {},
   "outputs": [],
   "source": [
    "bm25_text = pt.terrier.Retriever(index_ref, wmodel=\"BM25\")\n",
    "bm25_title = pt.terrier.Retriever(index_ref_title, wmodel=\"BM25\")"
   ]
  },
  {
   "cell_type": "code",
   "execution_count": 11,
   "id": "2774698f-5bf7-45d5-b5b2-a883db0e1305",
   "metadata": {},
   "outputs": [],
   "source": [
    "def get_text(row):\n",
    "    return list(pd_ds[pd_ds['celex_id']==row['docno']]['text'])[0]\n",
    "\n",
    "def get_title(row):\n",
    "    return list(pd_ds[pd_ds['celex_id']==row['docno']]['title'])[0]"
   ]
  },
  {
   "cell_type": "code",
   "execution_count": 12,
   "id": "7bad0568-9e84-4042-a50a-d68598a26bce",
   "metadata": {},
   "outputs": [
    {
     "name": "stdout",
     "output_type": "stream",
     "text": [
      "  qid       docno     score  rank\n",
      "0   1  32013R0216  2.000000     0\n",
      "1   1  31988L0665  0.750000     1\n",
      "2   1  32012R0623  0.500000     2\n",
      "3   1  32011D0479  0.333333     3\n",
      "4   1  32006D0178  0.333333     4\n"
     ]
    }
   ],
   "source": [
    "retr_text = bm25_text.search('Journal')\n",
    "retr_title = bm25_title.search('Journal')\n",
    "results = rrf([retr_text, retr_title], K=5)\n",
    "print(results)"
   ]
  },
  {
   "cell_type": "code",
   "execution_count": 13,
   "id": "d34cd9bb-cccc-4e5f-809f-2a04d12340ce",
   "metadata": {},
   "outputs": [
    {
     "name": "stdout",
     "output_type": "stream",
     "text": [
      "  qid       docno     score  rank  \\\n",
      "0   1  32013R0216  2.000000     0   \n",
      "1   1  31988L0665  0.750000     1   \n",
      "2   1  32012R0623  0.500000     2   \n",
      "3   1  32011D0479  0.333333     3   \n",
      "4   1  32006D0178  0.333333     4   \n",
      "\n",
      "                                               title  \\\n",
      "0  Council Regulation (EU) No 216/2013 of 7 March...   \n",
      "1  Council Directive 88/665/EEC of 21 December 19...   \n",
      "2  Commission Regulation (EU) No 623/2012 of 11 J...   \n",
      "3  2011/479/: Commission Decision of 27 July 2011...   \n",
      "4  2006/178/EC: Commission Decision of  27 Februa...   \n",
      "\n",
      "                                                text  \n",
      "0  13.3.2013 EN Official Journal of the European ...  \n",
      "1  COUNCIL DIRECTIVE of 21 December 1988 amending...  \n",
      "2  12.7.2012 EN Official Journal of the European ...  \n",
      "3  29.7.2011 EN Official Journal of the European ...  \n",
      "4  4.3.2006 EN Official Journal of the European U...  \n"
     ]
    }
   ],
   "source": [
    "results['title'] = results.apply(get_title, axis=1, raw=False)\n",
    "results['text'] = results.apply(get_text, axis=1, raw=False)\n",
    "print(results)"
   ]
  }
 ],
 "metadata": {
  "kernelspec": {
   "display_name": "Python [conda env:base] *",
   "language": "python",
   "name": "conda-base-py"
  },
  "language_info": {
   "codemirror_mode": {
    "name": "ipython",
    "version": 3
   },
   "file_extension": ".py",
   "mimetype": "text/x-python",
   "name": "python",
   "nbconvert_exporter": "python",
   "pygments_lexer": "ipython3",
   "version": "3.10.13"
  }
 },
 "nbformat": 4,
 "nbformat_minor": 5
}
