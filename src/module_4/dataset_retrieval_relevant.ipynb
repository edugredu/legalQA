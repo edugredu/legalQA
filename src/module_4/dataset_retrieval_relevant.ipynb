{
  "cells": [
    {
      "cell_type": "code",
      "source": [
        "#!pip install -U datasets\n",
        "#!pip install python-terrier\n",
        "#!pip install sentence_transformers pandas"
      ],
      "metadata": {
        "id": "MmuPfREN4FOG"
      },
      "id": "MmuPfREN4FOG",
      "execution_count": null,
      "outputs": []
    },
    {
      "cell_type": "markdown",
      "source": [
        "Module 4"
      ],
      "metadata": {
        "id": "iO0BcvrC4CiJ"
      },
      "id": "iO0BcvrC4CiJ"
    },
    {
      "cell_type": "code",
      "source": [
        "import re\n",
        "import pandas as pd\n",
        "from sentence_transformers import SentenceTransformer, util\n",
        "import os\n",
        "\n",
        "# Load model\n",
        "model = SentenceTransformer('all-MiniLM-L6-v2')\n",
        "query = \"\"\n",
        "\n",
        "with open(\"input/query.txt\", 'r', encoding='utf-8') as f:\n",
        "        query = f.read().strip()\n",
        "\n",
        "# Lightweight sentence splitter\n",
        "def split_into_sentences(text):\n",
        "    sentences = re.split(r'(?<=[.!?])\\s+(?=[A-Z])', text.strip())\n",
        "    return [s.strip() for s in sentences if s]\n",
        "\n",
        "# Create sentence chunks (1 sentence per chunk)\n",
        "def create_sentence_chunks(sentences, chunk_size=1):\n",
        "    return [\" \".join(sentences[i:i + chunk_size]) for i in range(0, len(sentences), chunk_size)]\n",
        "\n",
        "# Extract most relevant sentence using SBERT\n",
        "def extract_relevant_part(text, query, top_k=1):\n",
        "    sentences = split_into_sentences(text)\n",
        "    chunks = create_sentence_chunks(sentences, chunk_size=1)\n",
        "\n",
        "    if not chunks:\n",
        "        return \"\"\n",
        "\n",
        "    query_embedding = model.encode(query, convert_to_tensor=True)\n",
        "    chunk_embeddings = model.encode(chunks, convert_to_tensor=True)\n",
        "    similarities = util.pytorch_cos_sim(query_embedding, chunk_embeddings)[0]\n",
        "    top_indices = similarities.argsort(descending=True)[:top_k]\n",
        "    top_chunks = [chunks[i] for i in top_indices]\n",
        "\n",
        "    return \" \".join(dict.fromkeys(top_chunks))  # remove duplicates\n",
        "\n",
        "# 🧠 Main function\n",
        "def get_retrieved_docs(query,csv_path=\"input/lawsToBeConsidered.csv\"):\n",
        "    df = pd.read_csv(csv_path)\n",
        "\n",
        "    output_lines = []\n",
        "    for i, row in df.iterrows():\n",
        "        relevant = extract_relevant_part(row['text'], query, top_k=1)\n",
        "        if relevant:\n",
        "            entry = f\"{i+1}. {row['title'].strip()}\\n{relevant.strip()}\"\n",
        "            output_lines.append(entry)\n",
        "\n",
        "    full_output_string = \"\\n\\n\".join(output_lines)\n",
        "    os.makedirs(\"output\", exist_ok=True)\n",
        "    with open(\"output/summarized_laws.txt\", 'w', encoding='utf-8') as f:\n",
        "        f.write(full_output_string)\n",
        "    return full_output_string\n",
        "\n",
        "# Example usage\n",
        "result = get_retrieved_docs(query)\n",
        "print(result)"
      ],
      "metadata": {
        "id": "QxHUtLwn4Ku3",
        "colab": {
          "base_uri": "https://localhost:8080/"
        },
        "outputId": "617bd4bd-1c76-4c90-c762-75fcaf78c942"
      },
      "id": "QxHUtLwn4Ku3",
      "execution_count": 24,
      "outputs": [
        {
          "output_type": "stream",
          "name": "stdout",
          "text": [
            "1. Council Regulation (EU) No 216/2013 of 7 March 2013 on the electronic publication of the Official Journal of the European Union\n",
            "For the purposes of ensuring the authenticity, integrity and inalterability of the electronic edition of the Official Journal, an advanced electronic signature based on a qualified certificate and created by a secure-signature-creation device in accordance with that Directive provides sufficient guarantees to the public.\n",
            "\n",
            "2. Council Directive 88/665/EEC of 21 December 1988 amending several Directives concerning the approximation of the laws of Member States where there is provision in those Directives for publication in the Official Journal of the European Communities of attestations and certificates\n",
            "COUNCIL DIRECTIVE of 21 December 1988 amending several Directives concerning the approximation of the laws of Member States where there is provision in those Directives for publication in the Official, Journal of the European Communities of  attestations and certificates (88/665/EEC)\n",
            "THE COUNCIL OF THE EUROPEAN COMMUNITIES\n",
            ",\n",
            "Having regard to the Treaty establishing the European Economic Community, and in particular Article 100a thereof,\n",
            "Having regard to the proposal from the Commission,\n",
            "In cooperation with the European Parliament (1),\n",
            "Having regard to the opinion of the Economic and Social Committee (2),\n",
            "Whereas several Community Directives set out general provisions which concern in particular procedures for EEC approval, EEC type examination, EEC verification and other EEC certifications; whereas other specific Directives make reference to these  procedures;\n",
            "Whereas in the context of the procedures for EEC approval and EEC type examination, a reciprocal system of information between Member States and/or authorized bodies as well as notification to the Commission of the certificates granted are provided for;  whereas an extract of the certificates is also to be published in the Official Journal of the European Communities;\n",
            "Whereas the experience gained has shown that publication of extracts of certificates and attestations in the Official Journal does not appreciably improve the transparency of the matter, since this is already assured in a satisfactory manner by other  means; whereas publication is therefore not essential and could be discontinued,\n",
            "\n",
            "3. Commission Regulation (EU) No 623/2012 of 11 July 2012 amending Annex II to Directive 2005/36/EC of the European Parliament and of the Council on the recognition of professional qualifications  Text with EEA relevance\n",
            "12.7.2012 EN Official Journal of the European Union L 180/9\n",
            "COMMISSION REGULATION (EU) No 623/2012\n",
            "of 11 July 2012\n",
            "amending Annex II to Directive 2005/36/EC of the European Parliament and of the Council on the recognition of professional qualifications\n",
            "(Text with EEA relevance)\n",
            "THE EUROPEAN COMMISSION\n",
            ",\n",
            "Having regard to the Treaty on the Functioning of the European Union,\n",
            "Having regard to Directive 2005/36/EC of the European Parliament and of the Council of 7 September 2005 on the recognition of professional qualifications (1), and in particular the second paragraph of Article 11 thereof,\n",
            "Whereas:\n",
            "(1) Poland has submitted a reasoned request for amendment to Annex II to Directive 2005/36/EC.\n",
            "(2) Poland has requested an amendment to the content of training for the profession of train dispatcher (‘dyżurny ruchu’), a profession which is already included in Annex II to Directive 2005/36/EC.\n",
            "\n",
            "4. 2011/479/: Commission Decision of 27 July 2011 on the safety requirements to be met by European standards for gymnastic equipment pursuant to Directive 2001/95/EC of the European Parliament and of the Council Text with EEA relevance\n",
            "Under that procedure, the Commission is to determine the specific safety requirements which the European standards should satisfy and, subsequently, on the basis of those requirements, to give mandates to the European standardisation bodies to draw up those standards.\n",
            "(4) The Commission is to publish the references of the European standards adopted in that way in the Official Journal of the European Union.\n",
            "\n",
            "5. 2006/178/EC: Commission Decision of  27 February 2006  setting up a High Level Expert Group on Digital Libraries  (This text annuls and replaces the text published in  Official Journal L 46 of 16 February 2006, p. 32 )\n",
            "4.3.2006 EN Official Journal of the European Union L 63/25\n",
            "COMMISSION DECISION\n",
            "of 27 February 2006\n",
            "setting up a High Level Expert Group on Digital Libraries\n",
            "(This text annuls and replaces the text published in Official Journal L 46 of 16 February 2006, p. 32)\n",
            "(2006/178/EC)\n",
            "THE COMMISSION OF THE EUROPEAN COMMUNITIES\n",
            ",\n",
            "Having regard to the Treaty establishing the European Community,\n",
            "Whereas:\n",
            "(1) Article 157 of the Treaty establishing the European Community assigns the Community and the Member States the task of ensuring that the conditions necessary for the competitiveness of the Community's industry exist.\n",
            "\n",
            "6. 2006/514/EC: Commission Decision of  20 July 2006  on compliance of certain standards with the general safety requirement of Directive 2001/95/EC and the publication of their references in the Official Journal  (notified under document number C(2006) 3277)   (Text with EEA relevance)\n",
            "If those standards ensure compliance with the general safety requirement, the Commission shall decide to publish their references in the Official Journal of the European Union.\n",
            "\n",
            "7. 2011/196/EU: Commission Decision of 29 March 2011 on the compliance of standard EN 14682:2007 on cords and drawstrings on children’s clothing with the general safety requirement of Directive 2001/95/EC of the European Parliament and of the Council and publication of the reference of the standard in the Official Journal (notified under document C(2011) 1860)  Text with EEA relevance\n",
            "Where such standards ensure compliance with the general safety requirement, the Commission shall decide to publish their references in the Official Journal of the European Union.\n",
            "\n",
            "8. 2005/718/EC: Commission Decision of 13 October 2005 on compliance of certain standards with the general safety requirement of Directive 2001/95/EC of the European Parliament and of the Council and the publication of their references in the Official Journal (notified under document number C(2005) 3803)   (Text with EEA relevance)\n",
            "If those standards ensure compliance with the general safety requirement, the Commission shall decide to publish their references in the Official Journal of the European Union.\n",
            "\n",
            "9. Commission Regulation (EC) No 2156/2005 of  23 December 2005  amending the specification of a protected designation of origin listed in the Annex to Regulation (EC) No 1107/96 ( Siurana ) (PDO)\n",
            "24.12.2005 EN Official Journal of the European Union L 342/54\n",
            "COMMISSION REGULATION (EC) No 2156/2005\n",
            "of 23 December 2005\n",
            "amending the specification of a protected designation of origin listed in the Annex to Regulation (EC) No 1107/96 (Siurana) (PDO)\n",
            "THE COMMISSION OF THE EUROPEAN COMMUNITIES\n",
            ",\n",
            "Having regard to the Treaty establishing the European Community,\n",
            "Having regard to Council Regulation (EEC) No 2081/92 of 14 July 1992 on the protection of geographical indications and designations of origin for agricultural products and foodstuffs (1), and in particular Article 6(3), the second indent of Article 6(4) and Article 9 thereof,\n",
            "Whereas:\n",
            "(1) In accordance with Article 6(2) of Regulation (EEC) No 2081/92, Spain’s request for amendments to the specification for the protected designation of origin ‘Siurana’, registered by Commission Regulation (EC) No 1107/96 (2) has been published in the Official Journal of the European Union\n",
            " (3).\n",
            "(2) No statement of objection within the meaning of Article 7 of Regulation (EEC) No 2081/92 has been sent to the Commission so the amendments must be registered and published in the Official Journal of the European Union,\n",
            "\n",
            "10. 2001/524/EC: Commission Decision of 28 June 2001 relating to the publication of references for standards EN 13428:2000, EN 13429:2000, EN 13430:2000, EN 13431:2000 and EN 13432:2000 in the Official Journal of the European Communities in connection with Directive 94/62/EC on packaging and packaging waste (Text with EEA relevance) (notified under document number C(2001) 1681)\n",
            "This harmonised standard must, accordingly, be published in the Official Journal of the European Communities.\n",
            "(14) The Commission now calls on the CEN to undertake work to improve those standards which either in part or in full do not fulfil the essential requirements defined in the Directive,\n"
          ]
        }
      ]
    }
  ],
  "metadata": {
    "kernelspec": {
      "display_name": "Python 3",
      "name": "python3"
    },
    "language_info": {
      "name": "python"
    },
    "colab": {
      "provenance": []
    }
  },
  "nbformat": 4,
  "nbformat_minor": 5
}