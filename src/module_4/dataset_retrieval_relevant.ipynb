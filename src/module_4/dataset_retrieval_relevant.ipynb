{
  "cells": [
    {
      "cell_type": "code",
      "source": [
        "import os\n",
        "import ast\n",
        "import json\n",
        "import numpy as np\n",
        "import pandas as pd\n",
        "from sentence_transformers import SentenceTransformer\n",
        "\n",
        "# —— Parameters —— #\n",
        "INPUT_CSV    = 'input/cachedLaws_1.csv'    # your source CSV\n",
        "QUERY_FILE   = 'input/query.txt'           # your query text\n",
        "OUTPUT_CSV   = 'output/filtered_laws.csv'  # where to save results\n",
        "THRESHOLD    = 0.5                         # similarity cutoff (0–1)\n",
        "\n",
        "# —— Prepare output directory —— #\n",
        "os.makedirs(os.path.dirname(OUTPUT_CSV), exist_ok=True)\n",
        "\n",
        "# —— Load data —— #\n",
        "# Read first 5 rows (tab-separated)\n",
        "df = pd.read_csv(INPUT_CSV).head(5)\n",
        "df.to_csv(\"input/sample_input.csv\", index=False)\n",
        "\n",
        "# Load the user query\n",
        "with open(QUERY_FILE, 'r', encoding='utf-8') as f:\n",
        "    query = f.read().strip()\n",
        "\n",
        "# —— Initialize embedder —— #\n",
        "model = SentenceTransformer('jinaai/jina-embeddings-v2-small-en')\n",
        "query_emb = model.encode(query, convert_to_numpy=True)\n",
        "\n",
        "# —— Processing function —— #\n",
        "def filter_structured(sj):\n",
        "    \"\"\"\n",
        "    Parse the Python-style JSON in sj, compute cosine similarity of each\n",
        "    article/annex text to the query, add 'score' and keep only elements\n",
        "    with score >= THRESHOLD.\n",
        "    \"\"\"\n",
        "    # Parse Python-dict string\n",
        "    try:\n",
        "        data = ast.literal_eval(sj)\n",
        "    except (ValueError, SyntaxError):\n",
        "        return {'articles': [], 'annexes': []}\n",
        "\n",
        "    out = {'articles': [], 'annexes': []}\n",
        "    for section in ('articles', 'annexes'):\n",
        "        for elem in data.get(section, []):\n",
        "            text = elem.get('text', '')\n",
        "            # embed and compute cosine similarity\n",
        "            emb = model.encode(text, convert_to_numpy=True)\n",
        "            score = float(\n",
        "                np.dot(query_emb, emb) /\n",
        "                (np.linalg.norm(query_emb) * np.linalg.norm(emb))\n",
        "            )\n",
        "            elem['score'] = score\n",
        "            if score >= THRESHOLD:\n",
        "                out[section].append(elem)\n",
        "    return out\n",
        "\n",
        "# —— Apply filtering —— #\n",
        "df['filtered_json'] = df['structured_json'].apply(filter_structured)\n",
        "\n",
        "# Keep only rows with at least one match\n",
        "mask = df['filtered_json'].apply(lambda d: len(d['articles']) + len(d['annexes']) > 0)\n",
        "df_filtered = df[mask].copy()\n",
        "\n",
        "# Convert filtered dict back to JSON string\n",
        "df_filtered['filtered_json'] = df_filtered['filtered_json'].apply(json.dumps)\n",
        "\n",
        "# Select relevant columns and save\n",
        "result = df_filtered[['celex_id', 'reference', 'summary', 'filtered_json']]\n",
        "result.to_csv(OUTPUT_CSV, index=False)\n"
      ],
      "metadata": {
        "id": "P_J62OpZuOGM"
      },
      "id": "P_J62OpZuOGM",
      "execution_count": null,
      "outputs": []
    },
    {
      "cell_type": "code",
      "source": [],
      "metadata": {
        "id": "mmCrrwFhvs8i"
      },
      "id": "mmCrrwFhvs8i",
      "execution_count": null,
      "outputs": []
    }
  ],
  "metadata": {
    "kernelspec": {
      "display_name": "Python 3",
      "name": "python3"
    },
    "language_info": {
      "name": "python"
    },
    "colab": {
      "provenance": [],
      "gpuType": "T4"
    },
    "accelerator": "GPU"
  },
  "nbformat": 4,
  "nbformat_minor": 5
}