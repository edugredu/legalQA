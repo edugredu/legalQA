{
 "cells": [
  {
   "cell_type": "code",
   "execution_count": 1,
   "id": "P_J62OpZuOGM",
   "metadata": {
    "id": "P_J62OpZuOGM"
   },
   "outputs": [
    {
     "name": "stderr",
     "output_type": "stream",
     "text": [
      "/usr/local/lib/python3.9/site-packages/tqdm/auto.py:21: TqdmWarning: IProgress not found. Please update jupyter and ipywidgets. See https://ipywidgets.readthedocs.io/en/stable/user_install.html\n",
      "  from .autonotebook import tqdm as notebook_tqdm\n",
      "Some weights of BertModel were not initialized from the model checkpoint at jinaai/jina-embeddings-v2-small-en and are newly initialized: ['embeddings.position_embeddings.weight', 'encoder.layer.0.intermediate.dense.bias', 'encoder.layer.0.intermediate.dense.weight', 'encoder.layer.0.output.LayerNorm.bias', 'encoder.layer.0.output.LayerNorm.weight', 'encoder.layer.0.output.dense.bias', 'encoder.layer.0.output.dense.weight', 'encoder.layer.1.intermediate.dense.bias', 'encoder.layer.1.intermediate.dense.weight', 'encoder.layer.1.output.LayerNorm.bias', 'encoder.layer.1.output.LayerNorm.weight', 'encoder.layer.1.output.dense.bias', 'encoder.layer.1.output.dense.weight', 'encoder.layer.2.intermediate.dense.bias', 'encoder.layer.2.intermediate.dense.weight', 'encoder.layer.2.output.LayerNorm.bias', 'encoder.layer.2.output.LayerNorm.weight', 'encoder.layer.2.output.dense.bias', 'encoder.layer.2.output.dense.weight', 'encoder.layer.3.intermediate.dense.bias', 'encoder.layer.3.intermediate.dense.weight', 'encoder.layer.3.output.LayerNorm.bias', 'encoder.layer.3.output.LayerNorm.weight', 'encoder.layer.3.output.dense.bias', 'encoder.layer.3.output.dense.weight']\n",
      "You should probably TRAIN this model on a down-stream task to be able to use it for predictions and inference.\n",
      "BertSdpaSelfAttention is used but `torch.nn.functional.scaled_dot_product_attention` does not support non-absolute `position_embedding_type` or `output_attentions=True` or `head_mask`. Falling back to the manual attention implementation, but specifying the manual implementation will be required from Transformers version v5.0.0 onwards. This warning can be removed using the argument `attn_implementation=\"eager\"` when loading the model.\n"
     ]
    }
   ],
   "source": [
    "import os\n",
    "import ast\n",
    "import json\n",
    "import numpy as np\n",
    "import pandas as pd\n",
    "from sentence_transformers import SentenceTransformer\n",
    "\n",
    "# —— Parameters —— #\n",
    "INPUT_CSV    = '/app/src/module_3/cachedLaws_1.csv'    # your source CSV\n",
    "QUERY_FILE   = '/app/src/module_4/input/query.txt'           # your query text\n",
    "OUTPUT_CSV   = '/app/src/module_4/output/filtered_laws.csv'  # where to save results\n",
    "THRESHOLD    = 0.5                         # similarity cutoff (0–1)\n",
    "\n",
    "# —— Prepare output directory —— #\n",
    "os.makedirs(os.path.dirname(OUTPUT_CSV), exist_ok=True)\n",
    "\n",
    "# —— Load data —— #\n",
    "# Read first 5 rows (tab-separated)\n",
    "df = pd.read_csv(INPUT_CSV).head(5)\n",
    "df.to_csv(\"input/sample_input.csv\", index=False)\n",
    "\n",
    "# Load the user query\n",
    "with open(QUERY_FILE, 'r', encoding='utf-8') as f:\n",
    "    query = f.read().strip()\n",
    "\n",
    "# —— Initialize embedder —— #\n",
    "model = SentenceTransformer('jinaai/jina-embeddings-v2-small-en')\n",
    "query_emb = model.encode(query, convert_to_numpy=True)\n",
    "\n",
    "# —— Processing function —— #\n",
    "def filter_structured(sj):\n",
    "    \"\"\"\n",
    "    Parse the Python-style JSON in sj, compute cosine similarity of each\n",
    "    article/annex text to the query, add 'score' and keep only elements\n",
    "    with score >= THRESHOLD.\n",
    "    \"\"\"\n",
    "    # Parse Python-dict string\n",
    "    try:\n",
    "        data = ast.literal_eval(sj)\n",
    "    except (ValueError, SyntaxError):\n",
    "        return {'articles': [], 'annexes': []}\n",
    "\n",
    "    out = {'articles': [], 'annexes': []}\n",
    "    for section in ('articles', 'annexes'):\n",
    "        for elem in data.get(section, []):\n",
    "            text = elem.get('text', '')\n",
    "            # embed and compute cosine similarity\n",
    "            emb = model.encode(text, convert_to_numpy=True)\n",
    "            score = float(\n",
    "                np.dot(query_emb, emb) /\n",
    "                (np.linalg.norm(query_emb) * np.linalg.norm(emb))\n",
    "            )\n",
    "            elem['score'] = score\n",
    "            if score >= THRESHOLD:\n",
    "                out[section].append(elem)\n",
    "    return out\n",
    "\n",
    "# —— Apply filtering —— #\n",
    "df['filtered_json'] = df['structured_json'].apply(filter_structured)\n",
    "\n",
    "# Keep only rows with at least one match\n",
    "mask = df['filtered_json'].apply(lambda d: len(d['articles']) + len(d['annexes']) > 0)\n",
    "df_filtered = df[mask].copy()\n",
    "\n",
    "# Convert filtered dict back to JSON string\n",
    "df_filtered['filtered_json'] = df_filtered['filtered_json'].apply(json.dumps)\n",
    "\n",
    "# Select relevant columns and save\n",
    "result = df_filtered[['celex_id', 'reference', 'summary', 'filtered_json']]\n",
    "result.to_csv(OUTPUT_CSV, index=False)\n"
   ]
  },
  {
   "cell_type": "code",
   "execution_count": 5,
   "id": "mmCrrwFhvs8i",
   "metadata": {
    "id": "mmCrrwFhvs8i"
   },
   "outputs": [],
   "source": [
    "result.to_json('/app/src/module_4/output/filtered_laws.json', orient='records', lines=True)"
   ]
  }
 ],
 "metadata": {
  "accelerator": "GPU",
  "colab": {
   "gpuType": "T4",
   "provenance": []
  },
  "kernelspec": {
   "display_name": "Python 3",
   "name": "python3"
  },
  "language_info": {
   "codemirror_mode": {
    "name": "ipython",
    "version": 3
   },
   "file_extension": ".py",
   "mimetype": "text/x-python",
   "name": "python",
   "nbconvert_exporter": "python",
   "pygments_lexer": "ipython3",
   "version": "3.9.23"
  }
 },
 "nbformat": 4,
 "nbformat_minor": 5
}
