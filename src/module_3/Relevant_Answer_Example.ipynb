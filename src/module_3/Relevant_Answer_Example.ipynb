{
  "nbformat": 4,
  "nbformat_minor": 0,
  "metadata": {
    "colab": {
      "provenance": []
    },
    "kernelspec": {
      "name": "python3",
      "display_name": "Python 3"
    },
    "language_info": {
      "name": "python"
    }
  },
  "cells": [
    {
      "cell_type": "code",
      "execution_count": 1,
      "metadata": {
        "id": "11Vz8aX1gKnU"
      },
      "outputs": [],
      "source": [
        "# pip install pandas sentence-transformers"
      ]
    },
    {
      "cell_type": "code",
      "source": [
        "import re\n",
        "import pandas as pd\n",
        "from sentence_transformers import SentenceTransformer, util\n",
        "\n",
        "# Load SBERT model\n",
        "model = SentenceTransformer('all-MiniLM-L6-v2')\n",
        "\n",
        "# Semantic query\n",
        "query = \"wrongful termination of employment contract\"\n",
        "query_embedding = model.encode(query, convert_to_tensor=True)\n",
        "\n",
        "# Lightweight sentence splitter using regex\n",
        "def split_into_sentences(text):\n",
        "    sentences = re.split(r'(?<=[.!?])\\s+(?=[A-Z])', text.strip())\n",
        "    return [s.strip() for s in sentences if s]\n",
        "\n",
        "# Combine sentences into multi-sentence chunks\n",
        "def create_sentence_chunks(sentences, chunk_size=3):\n",
        "    return [\" \".join(sentences[i:i + chunk_size]) for i in range(0, len(sentences), chunk_size)]\n",
        "\n",
        "# Extract top-k semantically relevant sentence chunks\n",
        "def extract_semantic_chunks(paragraph, top_k=2, chunk_size=3):\n",
        "    sentences = split_into_sentences(paragraph)\n",
        "    sentence_chunks = create_sentence_chunks(sentences, chunk_size=chunk_size)\n",
        "\n",
        "    if not sentence_chunks:\n",
        "        return \"\"\n",
        "\n",
        "    chunk_embeddings = model.encode(sentence_chunks, convert_to_tensor=True)\n",
        "    similarities = util.pytorch_cos_sim(query_embedding, chunk_embeddings)[0]\n",
        "    top_indices = similarities.argsort(descending=True)[:top_k]\n",
        "    top_chunks = [sentence_chunks[i] for i in top_indices]\n",
        "\n",
        "    return \" \".join(dict.fromkeys(top_chunks))  # Remove duplicates, preserve order\n",
        "\n",
        "# Sample paragraphs (legal examples)\n",
        "paragraphs = [\n",
        "    \"The employee, who had served the company for over ten years, was dismissed \\\n",
        "    without prior notice or documented warnings. The termination letter cited vague allegations of underperformance. \\\n",
        "    However, no performance reviews or formal complaints had been filed. \\\n",
        "    According to the labor regulations in effect, employees are entitled to a fair hearing before termination. \\\n",
        "    Legal counsel argued that the dismissal constituted a breach of the employment contract and lacked procedural fairness, rendering it unlawful.\",\n",
        "\n",
        "    \"In this case, the defendant employer terminated the claimant on grounds of gross misconduct, alleging multiple instances of insubordination. \\\n",
        "    The claimant, however, provided evidence that all instructions in question had been followed precisely as given. \\\n",
        "    An internal HR investigation was conducted post-termination rather than beforehand. \\\n",
        "    The tribunal noted that due process was not followed, and that the employer had failed to observe its own disciplinary procedures outlined in the employee handbook.\",\n",
        "\n",
        "    \"The plaintiff was removed from her position two weeks after filing a formal harassment complaint against a senior manager. \\\n",
        "    The employer justified the termination by citing 'department restructuring,' though no similar positions were impacted. \\\n",
        "    Emails showed that management discussed termination shortly after the complaint was lodged. \\\n",
        "    The court found this to be retaliatory action, in violation of both the company’s whistleblower policy and federal employment protection statutes.\",\n",
        "\n",
        "    \"The employer claimed economic downsizing as the reason for the layoffs, affecting over twenty staff members. \\\n",
        "    However, it was revealed during litigation that the plaintiff's role was filled by a newly hired candidate within a month of termination. \\\n",
        "    Moreover, no financial documentation was submitted to support the downsizing claim. \\\n",
        "    The judge ruled the termination unjustified and awarded compensatory damages for wrongful dismissal.\",\n",
        "\n",
        "    \"Under the terms of the employment agreement, either party was required to provide 30 days’ written notice prior to termination. \\\n",
        "    The defendant employer terminated the plaintiff via email, effective immediately, citing breach of confidentiality. \\\n",
        "    No hearing was conducted, and the accused breach was never substantiated. \\\n",
        "    The plaintiff argued that the lack of notice and due process invalidated the termination, and the court agreed, awarding damages and legal costs.\"\n",
        "]\n",
        "\n",
        "# Create DataFrame and apply\n",
        "df = pd.DataFrame({'paragraph': paragraphs})\n",
        "df['relevant_part'] = df['paragraph'].apply(lambda p: extract_semantic_chunks(p, top_k=1, chunk_size=1))\n"
      ],
      "metadata": {
        "id": "ymIxPlZlgP4_"
      },
      "execution_count": null,
      "outputs": []
    },
    {
      "cell_type": "code",
      "source": [
        "# Show result\n",
        "pd.set_option('display.max_colwidth', None)\n",
        "print(df[['relevant_part']])"
      ],
      "metadata": {
        "id": "R6IZIeMjhzBT",
        "colab": {
          "base_uri": "https://localhost:8080/"
        },
        "outputId": "4a3f9a42-5995-4683-bf3d-1825685fd4cc"
      },
      "execution_count": 3,
      "outputs": [
        {
          "output_type": "stream",
          "name": "stdout",
          "text": [
            "                                                                                                                                       relevant_part\n",
            "0     Legal counsel argued that the dismissal constituted a breach of the employment contract and lacked procedural fairness, rendering it unlawful.\n",
            "1       In this case, the defendant employer terminated the claimant on grounds of gross misconduct, alleging multiple instances of insubordination.\n",
            "2                                                        Emails showed that management discussed termination shortly after the complaint was lodged.\n",
            "3                                               The judge ruled the termination unjustified and awarded compensatory damages for wrongful dismissal.\n",
            "4  The plaintiff argued that the lack of notice and due process invalidated the termination, and the court agreed, awarding damages and legal costs.\n"
          ]
        }
      ]
    }
  ]
}